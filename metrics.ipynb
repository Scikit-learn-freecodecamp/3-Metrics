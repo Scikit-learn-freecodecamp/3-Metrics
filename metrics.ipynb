{
 "cells": [
  {
   "cell_type": "markdown",
   "id": "dependent-belief",
   "metadata": {},
   "source": [
    "# Importar librerías"
   ]
  },
  {
   "cell_type": "code",
   "execution_count": 2,
   "id": "mathematical-world",
   "metadata": {},
   "outputs": [],
   "source": [
    "import numpy as np\n",
    "import pandas as pd\n",
    "import matplotlib.pylab as plt"
   ]
  },
  {
   "cell_type": "markdown",
   "id": "adult-standing",
   "metadata": {},
   "source": [
    "# Cargar los datos"
   ]
  },
  {
   "cell_type": "markdown",
   "id": "ranging-verse",
   "metadata": {},
   "source": [
    "Como el dataset es muy grande solo vamos a usar las primera 80000 filas."
   ]
  },
  {
   "cell_type": "code",
   "execution_count": 3,
   "id": "induced-sculpture",
   "metadata": {},
   "outputs": [
    {
     "data": {
      "text/html": [
       "<div>\n",
       "<style scoped>\n",
       "    .dataframe tbody tr th:only-of-type {\n",
       "        vertical-align: middle;\n",
       "    }\n",
       "\n",
       "    .dataframe tbody tr th {\n",
       "        vertical-align: top;\n",
       "    }\n",
       "\n",
       "    .dataframe thead th {\n",
       "        text-align: right;\n",
       "    }\n",
       "</style>\n",
       "<table border=\"1\" class=\"dataframe\">\n",
       "  <thead>\n",
       "    <tr style=\"text-align: right;\">\n",
       "      <th></th>\n",
       "      <th>Time</th>\n",
       "      <th>V1</th>\n",
       "      <th>V2</th>\n",
       "      <th>V3</th>\n",
       "      <th>V4</th>\n",
       "      <th>V5</th>\n",
       "      <th>V6</th>\n",
       "      <th>V7</th>\n",
       "      <th>V8</th>\n",
       "      <th>V9</th>\n",
       "      <th>...</th>\n",
       "      <th>V21</th>\n",
       "      <th>V22</th>\n",
       "      <th>V23</th>\n",
       "      <th>V24</th>\n",
       "      <th>V25</th>\n",
       "      <th>V26</th>\n",
       "      <th>V27</th>\n",
       "      <th>V28</th>\n",
       "      <th>Amount</th>\n",
       "      <th>Class</th>\n",
       "    </tr>\n",
       "  </thead>\n",
       "  <tbody>\n",
       "    <tr>\n",
       "      <th>0</th>\n",
       "      <td>0.0</td>\n",
       "      <td>-1.359807</td>\n",
       "      <td>-0.072781</td>\n",
       "      <td>2.536347</td>\n",
       "      <td>1.378155</td>\n",
       "      <td>-0.338321</td>\n",
       "      <td>0.462388</td>\n",
       "      <td>0.239599</td>\n",
       "      <td>0.098698</td>\n",
       "      <td>0.363787</td>\n",
       "      <td>...</td>\n",
       "      <td>-0.018307</td>\n",
       "      <td>0.277838</td>\n",
       "      <td>-0.110474</td>\n",
       "      <td>0.066928</td>\n",
       "      <td>0.128539</td>\n",
       "      <td>-0.189115</td>\n",
       "      <td>0.133558</td>\n",
       "      <td>-0.021053</td>\n",
       "      <td>149.62</td>\n",
       "      <td>0</td>\n",
       "    </tr>\n",
       "    <tr>\n",
       "      <th>1</th>\n",
       "      <td>0.0</td>\n",
       "      <td>1.191857</td>\n",
       "      <td>0.266151</td>\n",
       "      <td>0.166480</td>\n",
       "      <td>0.448154</td>\n",
       "      <td>0.060018</td>\n",
       "      <td>-0.082361</td>\n",
       "      <td>-0.078803</td>\n",
       "      <td>0.085102</td>\n",
       "      <td>-0.255425</td>\n",
       "      <td>...</td>\n",
       "      <td>-0.225775</td>\n",
       "      <td>-0.638672</td>\n",
       "      <td>0.101288</td>\n",
       "      <td>-0.339846</td>\n",
       "      <td>0.167170</td>\n",
       "      <td>0.125895</td>\n",
       "      <td>-0.008983</td>\n",
       "      <td>0.014724</td>\n",
       "      <td>2.69</td>\n",
       "      <td>0</td>\n",
       "    </tr>\n",
       "    <tr>\n",
       "      <th>2</th>\n",
       "      <td>1.0</td>\n",
       "      <td>-1.358354</td>\n",
       "      <td>-1.340163</td>\n",
       "      <td>1.773209</td>\n",
       "      <td>0.379780</td>\n",
       "      <td>-0.503198</td>\n",
       "      <td>1.800499</td>\n",
       "      <td>0.791461</td>\n",
       "      <td>0.247676</td>\n",
       "      <td>-1.514654</td>\n",
       "      <td>...</td>\n",
       "      <td>0.247998</td>\n",
       "      <td>0.771679</td>\n",
       "      <td>0.909412</td>\n",
       "      <td>-0.689281</td>\n",
       "      <td>-0.327642</td>\n",
       "      <td>-0.139097</td>\n",
       "      <td>-0.055353</td>\n",
       "      <td>-0.059752</td>\n",
       "      <td>378.66</td>\n",
       "      <td>0</td>\n",
       "    </tr>\n",
       "  </tbody>\n",
       "</table>\n",
       "<p>3 rows × 31 columns</p>\n",
       "</div>"
      ],
      "text/plain": [
       "   Time        V1        V2        V3        V4        V5        V6        V7  \\\n",
       "0   0.0 -1.359807 -0.072781  2.536347  1.378155 -0.338321  0.462388  0.239599   \n",
       "1   0.0  1.191857  0.266151  0.166480  0.448154  0.060018 -0.082361 -0.078803   \n",
       "2   1.0 -1.358354 -1.340163  1.773209  0.379780 -0.503198  1.800499  0.791461   \n",
       "\n",
       "         V8        V9  ...       V21       V22       V23       V24       V25  \\\n",
       "0  0.098698  0.363787  ... -0.018307  0.277838 -0.110474  0.066928  0.128539   \n",
       "1  0.085102 -0.255425  ... -0.225775 -0.638672  0.101288 -0.339846  0.167170   \n",
       "2  0.247676 -1.514654  ...  0.247998  0.771679  0.909412 -0.689281 -0.327642   \n",
       "\n",
       "        V26       V27       V28  Amount  Class  \n",
       "0 -0.189115  0.133558 -0.021053  149.62      0  \n",
       "1  0.125895 -0.008983  0.014724    2.69      0  \n",
       "2 -0.139097 -0.055353 -0.059752  378.66      0  \n",
       "\n",
       "[3 rows x 31 columns]"
      ]
     },
     "execution_count": 3,
     "metadata": {},
     "output_type": "execute_result"
    }
   ],
   "source": [
    "df  = pd.read_csv(\"./data/creditcard.csv\")[:80_000]\n",
    "df.head(3)"
   ]
  },
  {
   "cell_type": "code",
   "execution_count": 9,
   "id": "friendly-street",
   "metadata": {},
   "outputs": [
    {
     "data": {
      "text/plain": [
       "array([0, 1])"
      ]
     },
     "execution_count": 9,
     "metadata": {},
     "output_type": "execute_result"
    }
   ],
   "source": [
    "df.Class.unique()"
   ]
  },
  {
   "cell_type": "code",
   "execution_count": 4,
   "id": "unlimited-property",
   "metadata": {},
   "outputs": [
    {
     "data": {
      "text/plain": [
       "'Shapes of X=(80000, 28) y=(80000,), #Fraud Cases=196'"
      ]
     },
     "execution_count": 4,
     "metadata": {},
     "output_type": "execute_result"
    }
   ],
   "source": [
    "X = df.drop(columns=['Time', 'Amount', 'Class']).values\n",
    "y = df['Class'].values\n",
    "f\"Shapes of X={X.shape} y={y.shape}, #Fraud Cases={y.sum()}\""
   ]
  },
  {
   "cell_type": "markdown",
   "id": "american-marble",
   "metadata": {},
   "source": [
    "# LogisticRegression"
   ]
  },
  {
   "cell_type": "code",
   "execution_count": 6,
   "id": "solar-lying",
   "metadata": {},
   "outputs": [
    {
     "data": {
      "text/plain": [
       "151"
      ]
     },
     "execution_count": 6,
     "metadata": {},
     "output_type": "execute_result"
    }
   ],
   "source": [
    "from sklearn.linear_model import LogisticRegression\n",
    "\n",
    "mod = LogisticRegression(max_iter=1000)\n",
    "mod.fit(X, y).predict(X).sum()"
   ]
  },
  {
   "cell_type": "code",
   "execution_count": 7,
   "id": "suspended-pollution",
   "metadata": {},
   "outputs": [
    {
     "data": {
      "text/plain": [
       "171"
      ]
     },
     "execution_count": 7,
     "metadata": {},
     "output_type": "execute_result"
    }
   ],
   "source": [
    "mod = LogisticRegression(class_weight={0: 1, 1: 2}, max_iter=1000)\n",
    "mod.fit(X, y).predict(X).sum()"
   ]
  },
  {
   "cell_type": "markdown",
   "id": "proof-option",
   "metadata": {},
   "source": [
    "# GridSearchCV"
   ]
  },
  {
   "cell_type": "code",
   "execution_count": 10,
   "id": "important-sharp",
   "metadata": {},
   "outputs": [],
   "source": [
    "from sklearn.model_selection import GridSearchCV\n",
    "from sklearn.metrics import precision_score, recall_score, make_scorer"
   ]
  },
  {
   "cell_type": "code",
   "execution_count": 11,
   "id": "integral-analysis",
   "metadata": {},
   "outputs": [],
   "source": [
    "grid = GridSearchCV(\n",
    "    estimator=LogisticRegression(max_iter=1000),\n",
    "    param_grid={'class_weight': [{0: 1, 1: v} for v in range(1,4)]},\n",
    "    cv=4,\n",
    "    n_jobs=-1\n",
    ")\n",
    "grid.fit(X, y);"
   ]
  },
  {
   "cell_type": "code",
   "execution_count": 14,
   "id": "peaceful-visiting",
   "metadata": {},
   "outputs": [
    {
     "data": {
      "text/html": [
       "<div>\n",
       "<style scoped>\n",
       "    .dataframe tbody tr th:only-of-type {\n",
       "        vertical-align: middle;\n",
       "    }\n",
       "\n",
       "    .dataframe tbody tr th {\n",
       "        vertical-align: top;\n",
       "    }\n",
       "\n",
       "    .dataframe thead th {\n",
       "        text-align: right;\n",
       "    }\n",
       "</style>\n",
       "<table border=\"1\" class=\"dataframe\">\n",
       "  <thead>\n",
       "    <tr style=\"text-align: right;\">\n",
       "      <th></th>\n",
       "      <th>mean_fit_time</th>\n",
       "      <th>std_fit_time</th>\n",
       "      <th>mean_score_time</th>\n",
       "      <th>std_score_time</th>\n",
       "      <th>param_class_weight</th>\n",
       "      <th>params</th>\n",
       "      <th>split0_test_score</th>\n",
       "      <th>split1_test_score</th>\n",
       "      <th>split2_test_score</th>\n",
       "      <th>split3_test_score</th>\n",
       "      <th>mean_test_score</th>\n",
       "      <th>std_test_score</th>\n",
       "      <th>rank_test_score</th>\n",
       "    </tr>\n",
       "  </thead>\n",
       "  <tbody>\n",
       "    <tr>\n",
       "      <th>0</th>\n",
       "      <td>1.126224</td>\n",
       "      <td>0.243861</td>\n",
       "      <td>0.003684</td>\n",
       "      <td>0.000045</td>\n",
       "      <td>{0: 1, 1: 1}</td>\n",
       "      <td>{'class_weight': {0: 1, 1: 1}}</td>\n",
       "      <td>0.99405</td>\n",
       "      <td>0.99835</td>\n",
       "      <td>0.99945</td>\n",
       "      <td>0.99780</td>\n",
       "      <td>0.997413</td>\n",
       "      <td>0.002030</td>\n",
       "      <td>1</td>\n",
       "    </tr>\n",
       "    <tr>\n",
       "      <th>1</th>\n",
       "      <td>1.042547</td>\n",
       "      <td>0.254501</td>\n",
       "      <td>0.003382</td>\n",
       "      <td>0.000551</td>\n",
       "      <td>{0: 1, 1: 2}</td>\n",
       "      <td>{'class_weight': {0: 1, 1: 2}}</td>\n",
       "      <td>0.99025</td>\n",
       "      <td>0.99840</td>\n",
       "      <td>0.99960</td>\n",
       "      <td>0.99805</td>\n",
       "      <td>0.996575</td>\n",
       "      <td>0.003697</td>\n",
       "      <td>2</td>\n",
       "    </tr>\n",
       "    <tr>\n",
       "      <th>2</th>\n",
       "      <td>0.925649</td>\n",
       "      <td>0.056516</td>\n",
       "      <td>0.003157</td>\n",
       "      <td>0.001251</td>\n",
       "      <td>{0: 1, 1: 3}</td>\n",
       "      <td>{'class_weight': {0: 1, 1: 3}}</td>\n",
       "      <td>0.98730</td>\n",
       "      <td>0.99845</td>\n",
       "      <td>0.99960</td>\n",
       "      <td>0.99815</td>\n",
       "      <td>0.995875</td>\n",
       "      <td>0.004980</td>\n",
       "      <td>3</td>\n",
       "    </tr>\n",
       "  </tbody>\n",
       "</table>\n",
       "</div>"
      ],
      "text/plain": [
       "   mean_fit_time  std_fit_time  mean_score_time  std_score_time  \\\n",
       "0       1.126224      0.243861         0.003684        0.000045   \n",
       "1       1.042547      0.254501         0.003382        0.000551   \n",
       "2       0.925649      0.056516         0.003157        0.001251   \n",
       "\n",
       "  param_class_weight                          params  split0_test_score  \\\n",
       "0       {0: 1, 1: 1}  {'class_weight': {0: 1, 1: 1}}            0.99405   \n",
       "1       {0: 1, 1: 2}  {'class_weight': {0: 1, 1: 2}}            0.99025   \n",
       "2       {0: 1, 1: 3}  {'class_weight': {0: 1, 1: 3}}            0.98730   \n",
       "\n",
       "   split1_test_score  split2_test_score  split3_test_score  mean_test_score  \\\n",
       "0            0.99835            0.99945            0.99780         0.997413   \n",
       "1            0.99840            0.99960            0.99805         0.996575   \n",
       "2            0.99845            0.99960            0.99815         0.995875   \n",
       "\n",
       "   std_test_score  rank_test_score  \n",
       "0        0.002030                1  \n",
       "1        0.003697                2  \n",
       "2        0.004980                3  "
      ]
     },
     "execution_count": 14,
     "metadata": {},
     "output_type": "execute_result"
    }
   ],
   "source": [
    "pd.DataFrame(grid.cv_results_)"
   ]
  },
  {
   "cell_type": "code",
   "execution_count": 13,
   "id": "bulgarian-antibody",
   "metadata": {},
   "outputs": [
    {
     "data": {
      "text/plain": [
       "{'class_weight': {0: 1, 1: 1}}"
      ]
     },
     "execution_count": 13,
     "metadata": {},
     "output_type": "execute_result"
    }
   ],
   "source": [
    "grid.best_params_"
   ]
  },
  {
   "cell_type": "code",
   "execution_count": 15,
   "id": "removable-turner",
   "metadata": {},
   "outputs": [],
   "source": [
    "from sklearn.metrics import precision_score, recall_score, make_scorer"
   ]
  },
  {
   "cell_type": "code",
   "execution_count": 17,
   "id": "following-peace",
   "metadata": {},
   "outputs": [
    {
     "data": {
      "text/plain": [
       "0.7682119205298014"
      ]
     },
     "execution_count": 17,
     "metadata": {},
     "output_type": "execute_result"
    }
   ],
   "source": [
    "precision_score(y, grid.predict(X))"
   ]
  },
  {
   "cell_type": "code",
   "execution_count": 19,
   "id": "earned-sessions",
   "metadata": {},
   "outputs": [
    {
     "data": {
      "text/plain": [
       "0.5918367346938775"
      ]
     },
     "execution_count": 19,
     "metadata": {},
     "output_type": "execute_result"
    }
   ],
   "source": [
    "recall_score(y, grid.predict(X))"
   ]
  },
  {
   "cell_type": "markdown",
   "id": "federal-smooth",
   "metadata": {},
   "source": [
    "Añadimos los score al gridsearch"
   ]
  },
  {
   "cell_type": "code",
   "execution_count": 31,
   "id": "demanding-andrew",
   "metadata": {},
   "outputs": [],
   "source": [
    "grid = GridSearchCV(\n",
    "    estimator=LogisticRegression(max_iter=1000),\n",
    "    param_grid={'class_weight': [{0: 1, 1: v} for v in range(1,4)]},\n",
    "    scoring={'precision': make_scorer(precision_score), \n",
    "             'recall': make_scorer(recall_score)},\n",
    "    refit='precision',\n",
    "    return_train_score=True,\n",
    "    cv=4,\n",
    "    n_jobs=-1\n",
    ")\n",
    "grid.fit(X, y);"
   ]
  },
  {
   "cell_type": "code",
   "execution_count": 24,
   "id": "alternate-factor",
   "metadata": {},
   "outputs": [
    {
     "data": {
      "text/plain": [
       "{'class_weight': {0: 1, 1: 1}}"
      ]
     },
     "execution_count": 24,
     "metadata": {},
     "output_type": "execute_result"
    }
   ],
   "source": [
    "grid.best_params_"
   ]
  },
  {
   "cell_type": "code",
   "execution_count": 25,
   "id": "christian-lucas",
   "metadata": {},
   "outputs": [
    {
     "data": {
      "text/html": [
       "<div>\n",
       "<style scoped>\n",
       "    .dataframe tbody tr th:only-of-type {\n",
       "        vertical-align: middle;\n",
       "    }\n",
       "\n",
       "    .dataframe tbody tr th {\n",
       "        vertical-align: top;\n",
       "    }\n",
       "\n",
       "    .dataframe thead th {\n",
       "        text-align: right;\n",
       "    }\n",
       "</style>\n",
       "<table border=\"1\" class=\"dataframe\">\n",
       "  <thead>\n",
       "    <tr style=\"text-align: right;\">\n",
       "      <th></th>\n",
       "      <th>mean_fit_time</th>\n",
       "      <th>std_fit_time</th>\n",
       "      <th>mean_score_time</th>\n",
       "      <th>std_score_time</th>\n",
       "      <th>param_class_weight</th>\n",
       "      <th>params</th>\n",
       "      <th>split0_test_precision</th>\n",
       "      <th>split1_test_precision</th>\n",
       "      <th>split2_test_precision</th>\n",
       "      <th>split3_test_precision</th>\n",
       "      <th>...</th>\n",
       "      <th>split3_test_recall</th>\n",
       "      <th>mean_test_recall</th>\n",
       "      <th>std_test_recall</th>\n",
       "      <th>rank_test_recall</th>\n",
       "      <th>split0_train_recall</th>\n",
       "      <th>split1_train_recall</th>\n",
       "      <th>split2_train_recall</th>\n",
       "      <th>split3_train_recall</th>\n",
       "      <th>mean_train_recall</th>\n",
       "      <th>std_train_recall</th>\n",
       "    </tr>\n",
       "  </thead>\n",
       "  <tbody>\n",
       "    <tr>\n",
       "      <th>0</th>\n",
       "      <td>1.091947</td>\n",
       "      <td>0.212254</td>\n",
       "      <td>0.018552</td>\n",
       "      <td>0.001248</td>\n",
       "      <td>{0: 1, 1: 1}</td>\n",
       "      <td>{'class_weight': {0: 1, 1: 1}}</td>\n",
       "      <td>0.281250</td>\n",
       "      <td>1.0</td>\n",
       "      <td>0.952381</td>\n",
       "      <td>0.857143</td>\n",
       "      <td>...</td>\n",
       "      <td>0.122449</td>\n",
       "      <td>0.545918</td>\n",
       "      <td>0.331397</td>\n",
       "      <td>3</td>\n",
       "      <td>0.863946</td>\n",
       "      <td>0.585034</td>\n",
       "      <td>0.530612</td>\n",
       "      <td>0.693878</td>\n",
       "      <td>0.668367</td>\n",
       "      <td>0.127301</td>\n",
       "    </tr>\n",
       "    <tr>\n",
       "      <th>1</th>\n",
       "      <td>1.007719</td>\n",
       "      <td>0.259941</td>\n",
       "      <td>0.016737</td>\n",
       "      <td>0.000604</td>\n",
       "      <td>{0: 1, 1: 2}</td>\n",
       "      <td>{'class_weight': {0: 1, 1: 2}}</td>\n",
       "      <td>0.190678</td>\n",
       "      <td>1.0</td>\n",
       "      <td>0.955556</td>\n",
       "      <td>0.812500</td>\n",
       "      <td>...</td>\n",
       "      <td>0.265306</td>\n",
       "      <td>0.602041</td>\n",
       "      <td>0.297672</td>\n",
       "      <td>2</td>\n",
       "      <td>0.870748</td>\n",
       "      <td>0.659864</td>\n",
       "      <td>0.632653</td>\n",
       "      <td>0.782313</td>\n",
       "      <td>0.736395</td>\n",
       "      <td>0.095889</td>\n",
       "    </tr>\n",
       "    <tr>\n",
       "      <th>2</th>\n",
       "      <td>0.828849</td>\n",
       "      <td>0.098288</td>\n",
       "      <td>0.013655</td>\n",
       "      <td>0.003954</td>\n",
       "      <td>{0: 1, 1: 3}</td>\n",
       "      <td>{'class_weight': {0: 1, 1: 3}}</td>\n",
       "      <td>0.154882</td>\n",
       "      <td>1.0</td>\n",
       "      <td>0.955556</td>\n",
       "      <td>0.800000</td>\n",
       "      <td>...</td>\n",
       "      <td>0.326531</td>\n",
       "      <td>0.627551</td>\n",
       "      <td>0.281816</td>\n",
       "      <td>1</td>\n",
       "      <td>0.870748</td>\n",
       "      <td>0.714286</td>\n",
       "      <td>0.680272</td>\n",
       "      <td>0.816327</td>\n",
       "      <td>0.770408</td>\n",
       "      <td>0.076568</td>\n",
       "    </tr>\n",
       "  </tbody>\n",
       "</table>\n",
       "<p>3 rows × 32 columns</p>\n",
       "</div>"
      ],
      "text/plain": [
       "   mean_fit_time  std_fit_time  mean_score_time  std_score_time  \\\n",
       "0       1.091947      0.212254         0.018552        0.001248   \n",
       "1       1.007719      0.259941         0.016737        0.000604   \n",
       "2       0.828849      0.098288         0.013655        0.003954   \n",
       "\n",
       "  param_class_weight                          params  split0_test_precision  \\\n",
       "0       {0: 1, 1: 1}  {'class_weight': {0: 1, 1: 1}}               0.281250   \n",
       "1       {0: 1, 1: 2}  {'class_weight': {0: 1, 1: 2}}               0.190678   \n",
       "2       {0: 1, 1: 3}  {'class_weight': {0: 1, 1: 3}}               0.154882   \n",
       "\n",
       "   split1_test_precision  split2_test_precision  split3_test_precision  ...  \\\n",
       "0                    1.0               0.952381               0.857143  ...   \n",
       "1                    1.0               0.955556               0.812500  ...   \n",
       "2                    1.0               0.955556               0.800000  ...   \n",
       "\n",
       "   split3_test_recall  mean_test_recall  std_test_recall  rank_test_recall  \\\n",
       "0            0.122449          0.545918         0.331397                 3   \n",
       "1            0.265306          0.602041         0.297672                 2   \n",
       "2            0.326531          0.627551         0.281816                 1   \n",
       "\n",
       "   split0_train_recall  split1_train_recall  split2_train_recall  \\\n",
       "0             0.863946             0.585034             0.530612   \n",
       "1             0.870748             0.659864             0.632653   \n",
       "2             0.870748             0.714286             0.680272   \n",
       "\n",
       "   split3_train_recall  mean_train_recall  std_train_recall  \n",
       "0             0.693878           0.668367          0.127301  \n",
       "1             0.782313           0.736395          0.095889  \n",
       "2             0.816327           0.770408          0.076568  \n",
       "\n",
       "[3 rows x 32 columns]"
      ]
     },
     "execution_count": 25,
     "metadata": {},
     "output_type": "execute_result"
    }
   ],
   "source": [
    "pd.DataFrame(grid.cv_results_)"
   ]
  },
  {
   "cell_type": "markdown",
   "id": "thirty-thing",
   "metadata": {},
   "source": [
    "Aumentamos el `cv = 10`"
   ]
  },
  {
   "cell_type": "code",
   "execution_count": 39,
   "id": "deluxe-ivory",
   "metadata": {},
   "outputs": [
    {
     "data": {
      "text/plain": [
       "GridSearchCV(cv=10, estimator=LogisticRegression(max_iter=1000), n_jobs=-1,\n",
       "             param_grid={'class_weight': [{0: 1, 1: 1.0},\n",
       "                                          {0: 1, 1: 1.6551724137931034},\n",
       "                                          {0: 1, 1: 2.310344827586207},\n",
       "                                          {0: 1, 1: 2.9655172413793105},\n",
       "                                          {0: 1, 1: 3.6206896551724137},\n",
       "                                          {0: 1, 1: 4.275862068965517},\n",
       "                                          {0: 1, 1: 4.931034482758621},\n",
       "                                          {0: 1, 1: 5.586206896551724},\n",
       "                                          {0: 1, 1: 6.241379310344827},\n",
       "                                          {0: 1, 1: 6.896551724137931},...\n",
       "                                          {0: 1, 1: 14.758620689655173},\n",
       "                                          {0: 1, 1: 15.413793103448276},\n",
       "                                          {0: 1, 1: 16.06896551724138},\n",
       "                                          {0: 1, 1: 16.724137931034484},\n",
       "                                          {0: 1, 1: 17.379310344827587},\n",
       "                                          {0: 1, 1: 18.03448275862069},\n",
       "                                          {0: 1, 1: 18.689655172413794},\n",
       "                                          {0: 1, 1: 19.344827586206897},\n",
       "                                          {0: 1, 1: 20.0}]},\n",
       "             refit='precision', return_train_score=True,\n",
       "             scoring={'precision': make_scorer(precision_score),\n",
       "                      'recall': make_scorer(recall_score)})"
      ]
     },
     "execution_count": 39,
     "metadata": {},
     "output_type": "execute_result"
    }
   ],
   "source": [
    "grid = GridSearchCV(\n",
    "    estimator=LogisticRegression(max_iter=1000),\n",
    "    param_grid={'class_weight': [{0: 1, 1: v} for v in np.linspace(1, 20, 30)]},\n",
    "    scoring={'precision': make_scorer(precision_score), \n",
    "             'recall': make_scorer(recall_score)},\n",
    "    refit='precision',\n",
    "    return_train_score=True,\n",
    "    cv = 10,\n",
    "    n_jobs=-1\n",
    ")\n",
    "grid.fit(X, y)\n"
   ]
  },
  {
   "cell_type": "code",
   "execution_count": 43,
   "id": "federal-formation",
   "metadata": {},
   "outputs": [
    {
     "data": {
      "image/png": "[encoded data removed]",
      "text/plain": [
       "<Figure size 864x288 with 1 Axes>"
      ]
     },
     "metadata": {
      "needs_background": "light"
     },
     "output_type": "display_data"
    }
   ],
   "source": [
    "plt.figure(figsize=(12, 4))\n",
    "df_results = pd.DataFrame(grid.cv_results_)\n",
    "for score in ['mean_test_recall', 'mean_test_precision']:\n",
    "    plt.plot([_[1] for _ in df_results['param_class_weight']], \n",
    "             df_results[score], \n",
    "             label=score)\n",
    "plt.legend()\n",
    "plt.savefig(\"./images/recall_precision.png\")"
   ]
  },
  {
   "cell_type": "code",
   "execution_count": 42,
   "id": "viral-child",
   "metadata": {},
   "outputs": [
    {
     "data": {
      "image/png": "[encoded data removed]",
      "text/plain": [
       "<Figure size 864x288 with 1 Axes>"
      ]
     },
     "metadata": {
      "needs_background": "light"
     },
     "output_type": "display_data"
    }
   ],
   "source": [
    "\n",
    "plt.figure(figsize=(12, 4))\n",
    "df_results = pd.DataFrame(grid.cv_results_)\n",
    "for score in ['mean_train_recall', 'mean_train_precision']:\n",
    "    plt.scatter(x=[_[1] for _ in df_results['param_class_weight']], \n",
    "                y=df_results[score.replace('test', 'train')], \n",
    "                label=score)\n",
    "plt.legend()\n",
    "plt.savefig(\"./images/test_train.png\")"
   ]
  },
  {
   "cell_type": "markdown",
   "id": "efficient-assist",
   "metadata": {},
   "source": [
    "# Min(recall_score, precision_score)"
   ]
  },
  {
   "cell_type": "code",
   "execution_count": 45,
   "id": "dynamic-gasoline",
   "metadata": {},
   "outputs": [],
   "source": [
    "def min_recall_precision(y_true, y_pred):\n",
    "    recall = recall_score(y_true, y_pred)\n",
    "    precision = precision_score(y_true, y_pred)\n",
    "    return min(recall, precision)"
   ]
  },
  {
   "cell_type": "code",
   "execution_count": 47,
   "id": "dramatic-christmas",
   "metadata": {},
   "outputs": [],
   "source": [
    "grid = GridSearchCV(\n",
    "    estimator=LogisticRegression(max_iter=1000),\n",
    "    param_grid={'class_weight': [{0: 1, 1: v} for v in np.linspace(1, 20, 30)]},\n",
    "    scoring={'precision': make_scorer(precision_score), \n",
    "             'recall': make_scorer(recall_score),\n",
    "             'min_both':make_scorer(min_recall_precision)},\n",
    "    refit='min_both',\n",
    "    return_train_score=True,\n",
    "    cv=10,\n",
    "    n_jobs=-1\n",
    ")\n",
    "grid.fit(X, y);"
   ]
  },
  {
   "cell_type": "code",
   "execution_count": 49,
   "id": "reserved-wheel",
   "metadata": {},
   "outputs": [
    {
     "data": {
      "image/png": "[encoded data removed]",
      "text/plain": [
       "<Figure size 864x288 with 1 Axes>"
      ]
     },
     "metadata": {
      "needs_background": "light"
     },
     "output_type": "display_data"
    }
   ],
   "source": [
    "\n",
    "plt.figure(figsize=(12, 4))\n",
    "df_results = pd.DataFrame(grid.cv_results_)\n",
    "for score in ['mean_test_recall', 'mean_test_precision', 'mean_test_min_both']:\n",
    "    plt.plot([_[1] for _ in df_results['param_class_weight']], \n",
    "             df_results[score], \n",
    "             label=score)\n",
    "plt.legend()\n",
    "plt.savefig(\"./images/min.png\")"
   ]
  },
  {
   "cell_type": "code",
   "execution_count": 50,
   "id": "opened-insert",
   "metadata": {},
   "outputs": [
    {
     "data": {
      "image/png": "[encoded data removed]",
      "text/plain": [
       "<Figure size 864x288 with 1 Axes>"
      ]
     },
     "metadata": {
      "needs_background": "light"
     },
     "output_type": "display_data"
    }
   ],
   "source": [
    "\n",
    "plt.figure(figsize=(12, 4))\n",
    "df_results = pd.DataFrame(grid.cv_results_)\n",
    "for score in ['mean_train_recall', 'mean_train_precision', 'mean_test_min_both']:\n",
    "    plt.scatter(x=[_[1] for _ in df_results['param_class_weight']], \n",
    "                y=df_results[score.replace('test', 'train')], \n",
    "                label=score)\n",
    "plt.legend()\n",
    "plt.savefig(\"./images/mean_min.png\")"
   ]
  },
  {
   "cell_type": "markdown",
   "id": "satellite-tattoo",
   "metadata": {},
   "source": [
    "\n",
    "# Uso de modelos de detección  Outlier"
   ]
  },
  {
   "cell_type": "code",
   "execution_count": 12,
   "id": "composed-mixture",
   "metadata": {},
   "outputs": [],
   "source": [
    "from collections import Counter\n",
    "from sklearn.ensemble import IsolationForest\n",
    "from sklearn.model_selection import GridSearchCV\n",
    "from sklearn.metrics import precision_score, recall_score, make_scorer"
   ]
  },
  {
   "cell_type": "code",
   "execution_count": 6,
   "id": "likely-veteran",
   "metadata": {},
   "outputs": [
    {
     "data": {
      "text/plain": [
       "array([0, 0, 0, ..., 0, 0, 0])"
      ]
     },
     "execution_count": 6,
     "metadata": {},
     "output_type": "execute_result"
    }
   ],
   "source": [
    "mod = IsolationForest().fit(X)"
   ]
  },
  {
   "cell_type": "code",
   "execution_count": 7,
   "id": "engaging-glossary",
   "metadata": {},
   "outputs": [
    {
     "data": {
      "text/plain": [
       "Counter({1: 76910, -1: 3090})"
      ]
     },
     "execution_count": 7,
     "metadata": {},
     "output_type": "execute_result"
    }
   ],
   "source": [
    "Counter(mod.predict(X))"
   ]
  },
  {
   "cell_type": "code",
   "execution_count": 8,
   "id": "jewish-married",
   "metadata": {},
   "outputs": [
    {
     "data": {
      "text/plain": [
       "array([0, 0, 0, ..., 0, 0, 0])"
      ]
     },
     "execution_count": 8,
     "metadata": {},
     "output_type": "execute_result"
    }
   ],
   "source": [
    "np.where(mod.predict(X) == -1, 1, 0)"
   ]
  },
  {
   "cell_type": "markdown",
   "id": "ceramic-province",
   "metadata": {},
   "source": [
    "Tenemos que usar otras funciones, porque las metricas anteriomente usadas solo aceptan los valores `0/1`"
   ]
  },
  {
   "cell_type": "code",
   "execution_count": 13,
   "id": "preliminary-theater",
   "metadata": {},
   "outputs": [
    {
     "data": {
      "image/png": "[encoded data removed]",
      "text/plain": [
       "<Figure size 864x288 with 1 Axes>"
      ]
     },
     "metadata": {
      "needs_background": "light"
     },
     "output_type": "display_data"
    }
   ],
   "source": [
    "def outlier_precision(mod, X, y):\n",
    "    preds = mod.predict(X)\n",
    "    return precision_score(y, np.where(preds == -1, 1, 0))\n",
    "\n",
    "def outlier_recall(mod, X, y):\n",
    "    preds = mod.predict(X)\n",
    "    return recall_score(y, np.where(preds == -1, 1, 0))\n",
    "\n",
    "grid = GridSearchCV(\n",
    "    estimator=IsolationForest(),\n",
    "    param_grid={'contamination': np.linspace(0.001, 0.02, 10)},\n",
    "    scoring={'precision': outlier_precision, \n",
    "             'recall': outlier_recall},\n",
    "    refit='precision',\n",
    "    cv=5,\n",
    "    n_jobs=-1\n",
    ")\n",
    "grid.fit(X, y);\n",
    "\n",
    "plt.figure(figsize=(12, 4))\n",
    "df_results = pd.DataFrame(grid.cv_results_)\n",
    "for score in ['mean_test_recall', 'mean_test_precision']:\n",
    "    plt.plot(df_results['param_contamination'], \n",
    "             df_results[score], \n",
    "             label=score)\n",
    "plt.legend()\n",
    "plt.savefig(\"./images/outlier.png\")"
   ]
  },
  {
   "cell_type": "code",
   "execution_count": null,
   "id": "medium-doctor",
   "metadata": {},
   "outputs": [],
   "source": []
  },
  {
   "cell_type": "code",
   "execution_count": null,
   "id": "handmade-closer",
   "metadata": {},
   "outputs": [],
   "source": []
  },
  {
   "cell_type": "code",
   "execution_count": null,
   "id": "settled-warrant",
   "metadata": {},
   "outputs": [],
   "source": []
  }
 ],
 "metadata": {
  "kernelspec": {
   "display_name": "Python 3",
   "language": "python",
   "name": "python3"
  },
  "language_info": {
   "codemirror_mode": {
    "name": "ipython",
    "version": 3
   },
   "file_extension": ".py",
   "mimetype": "text/x-python",
   "name": "python",
   "nbconvert_exporter": "python",
   "pygments_lexer": "ipython3",
   "version": "3.7.0"
  }
 },
 "nbformat": 4,
 "nbformat_minor": 5
}
